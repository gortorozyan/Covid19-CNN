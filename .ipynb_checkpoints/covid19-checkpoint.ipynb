{
 "cells": [
  {
   "cell_type": "code",
   "execution_count": 34,
   "id": "2747db8c-44a9-46c4-a688-0444ec988bdc",
   "metadata": {},
   "outputs": [],
   "source": [
    "import numpy as np\n",
    "import pandas as pd\n",
    "import seaborn as sns\n",
    "import matplotlib.image as mpimg\n",
    "import cv2\n",
    "from keras import Sequential\n",
    "from keras.layers import Dense, Conv2D, MaxPooling2D, Flatten, Dropout, BatchNormalization\n",
    "import os\n",
    "from sklearn.model_selection import train_test_split\n",
    "from keras.utils import to_categorical\n",
    "from PIL import Image"
   ]
  },
  {
   "cell_type": "code",
   "execution_count": 35,
   "id": "518fbcc4-8bca-496e-a715-e37ce03036a6",
   "metadata": {},
   "outputs": [],
   "source": [
    "train_covid_x = os.listdir('train/Covid')\n",
    "train_normal_x = os.listdir('train/Normal')\n",
    "train_pne_x = os.listdir('train/Viral Pneumonia')\n",
    "test_covid_x = os.listdir('test/Covid')\n",
    "test_normal_x = os.listdir('test/Normal')\n",
    "test_pne_x = os.listdir('test/Viral Pneumonia')"
   ]
  },
  {
   "cell_type": "code",
   "execution_count": 36,
   "id": "358d4020-2205-4638-a6fb-58e091d3f24a",
   "metadata": {},
   "outputs": [],
   "source": [
    "train_covid_y = [0 for i in range(len(train_covid_x))]\n",
    "train_normal_y = [1 for i in range(len(train_normal_x))]\n",
    "train_pne_y = [2 for i in range(len(train_pne_x))]\n",
    "test_covid_y = [0 for i in range(len(test_covid_x))]\n",
    "test_normal_y = [1 for i in range(len(test_normal_x))]\n",
    "test_pne_y = [2 for i in range(len(test_pne_x))]"
   ]
  },
  {
   "cell_type": "code",
   "execution_count": 37,
   "id": "3c35a8e2-feb9-4927-992e-393718b31ac3",
   "metadata": {},
   "outputs": [],
   "source": [
    "df = pd.DataFrame(data= train_covid_x + train_normal_x + train_pne_x + test_covid_x + test_normal_x + test_pne_x, columns=['Image'])\n",
    "df['Target'] = train_covid_y + train_normal_y + train_pne_y + test_covid_y + test_normal_y + test_pne_y"
   ]
  },
  {
   "cell_type": "code",
   "execution_count": 38,
   "id": "4347a2d5-fdb5-4c5c-8b73-4670f533f10f",
   "metadata": {
    "scrolled": true
   },
   "outputs": [],
   "source": [
    "X = df.drop('Target', axis=1)\n",
    "y = df['Target']"
   ]
  },
  {
   "cell_type": "code",
   "execution_count": 19,
   "id": "f3427141-a96d-4335-9911-f1204496d849",
   "metadata": {},
   "outputs": [],
   "source": [
    "X_train, X_test, y_train, y_test = train_test_split(X, y, test_size=0.21, random_state=42)"
   ]
  },
  {
   "cell_type": "code",
   "execution_count": 20,
   "id": "7d419528-2655-4d81-ba6b-199db9e235e2",
   "metadata": {},
   "outputs": [],
   "source": [
    "mean_size_m, mean_size_n = [],[]\n",
    "def calculate_mean(data, path_name):\n",
    "    for i in data:\n",
    "        image = mpimg.imread(f'{path_name}/{i}')\n",
    "        mean_size_m.append(image.shape[0])\n",
    "        mean_size_n.append(image.shape[1])\n",
    "        \n",
    "calculate_mean(train_covid_x,'train/Covid')\n",
    "calculate_mean(train_normal_x,'train/Normal')\n",
    "calculate_mean(train_pne_x,'train/Viral Pneumonia')\n",
    "calculate_mean(test_covid_x,'test/Covid')\n",
    "calculate_mean(test_normal_x,'test/Normal')\n",
    "calculate_mean(test_pne_x,'test/Viral Pneumonia')\n"
   ]
  },
  {
   "cell_type": "code",
   "execution_count": 21,
   "id": "6325a560-31af-48d0-92be-7befb73df168",
   "metadata": {},
   "outputs": [],
   "source": [
    "size_m, size_n = int(np.mean(mean_size_m)), int(np.mean(mean_size_n))"
   ]
  },
  {
   "cell_type": "code",
   "execution_count": 39,
   "id": "ddd16690-62c9-4b56-925a-ea7fe4fd4579",
   "metadata": {},
   "outputs": [
    {
     "data": {
      "text/plain": [
       "(1352, 1624)"
      ]
     },
     "execution_count": 39,
     "metadata": {},
     "output_type": "execute_result"
    }
   ],
   "source": [
    "size_m, size_n"
   ]
  },
  {
   "cell_type": "code",
   "execution_count": 41,
   "id": "fcd7d79a-11d1-4faf-bdc4-58ef4e7b4355",
   "metadata": {},
   "outputs": [
    {
     "ename": "MemoryError",
     "evalue": "",
     "output_type": "error",
     "traceback": [
      "\u001b[1;31m---------------------------------------------------------------------------\u001b[0m",
      "\u001b[1;31mMemoryError\u001b[0m                               Traceback (most recent call last)",
      "Cell \u001b[1;32mIn[41], line 15\u001b[0m\n\u001b[0;32m     12\u001b[0m         y_data\u001b[38;5;241m.\u001b[39mappend(target_class)\n\u001b[0;32m     14\u001b[0m to_normal_image(train_covid_x,\u001b[38;5;124m'\u001b[39m\u001b[38;5;124mtrain/Covid\u001b[39m\u001b[38;5;124m'\u001b[39m, \u001b[38;5;241m0\u001b[39m)\n\u001b[1;32m---> 15\u001b[0m \u001b[43mto_normal_image\u001b[49m\u001b[43m(\u001b[49m\u001b[43mtrain_normal_x\u001b[49m\u001b[43m,\u001b[49m\u001b[38;5;124;43m'\u001b[39;49m\u001b[38;5;124;43mtrain/Normal\u001b[39;49m\u001b[38;5;124;43m'\u001b[39;49m\u001b[43m,\u001b[49m\u001b[43m \u001b[49m\u001b[38;5;241;43m1\u001b[39;49m\u001b[43m)\u001b[49m\n\u001b[0;32m     16\u001b[0m to_normal_image(train_pne_x,\u001b[38;5;124m'\u001b[39m\u001b[38;5;124mtrain/Viral Pneumonia\u001b[39m\u001b[38;5;124m'\u001b[39m, \u001b[38;5;241m2\u001b[39m)\n\u001b[0;32m     17\u001b[0m to_normal_image(test_covid_x,\u001b[38;5;124m'\u001b[39m\u001b[38;5;124mtest/Covid\u001b[39m\u001b[38;5;124m'\u001b[39m, \u001b[38;5;241m0\u001b[39m)\n",
      "Cell \u001b[1;32mIn[41], line 5\u001b[0m, in \u001b[0;36mto_normal_image\u001b[1;34m(data_name, img_path, target_class)\u001b[0m\n\u001b[0;32m      3\u001b[0m \u001b[38;5;28;01mfor\u001b[39;00m i \u001b[38;5;129;01min\u001b[39;00m \u001b[38;5;28mrange\u001b[39m(\u001b[38;5;241m0\u001b[39m, \u001b[38;5;28mlen\u001b[39m(data_name)):\n\u001b[0;32m      4\u001b[0m     \u001b[38;5;28;01mif\u001b[39;00m df[\u001b[38;5;124m'\u001b[39m\u001b[38;5;124mTarget\u001b[39m\u001b[38;5;124m'\u001b[39m]\u001b[38;5;241m.\u001b[39miloc[i] \u001b[38;5;241m==\u001b[39m \u001b[38;5;241m0\u001b[39m:\n\u001b[1;32m----> 5\u001b[0m         image \u001b[38;5;241m=\u001b[39m \u001b[43mmpimg\u001b[49m\u001b[38;5;241;43m.\u001b[39;49m\u001b[43mimread\u001b[49m\u001b[43m(\u001b[49m\u001b[38;5;124;43mf\u001b[39;49m\u001b[38;5;124;43m'\u001b[39;49m\u001b[38;5;132;43;01m{\u001b[39;49;00m\u001b[43mimg_path\u001b[49m\u001b[38;5;132;43;01m}\u001b[39;49;00m\u001b[38;5;124;43m/\u001b[39;49m\u001b[38;5;132;43;01m{\u001b[39;49;00m\u001b[43mdata_name\u001b[49m\u001b[43m[\u001b[49m\u001b[43mi\u001b[49m\u001b[43m]\u001b[49m\u001b[38;5;132;43;01m}\u001b[39;49;00m\u001b[38;5;124;43m'\u001b[39;49m\u001b[43m)\u001b[49m\n\u001b[0;32m      6\u001b[0m     image \u001b[38;5;241m=\u001b[39m cv2\u001b[38;5;241m.\u001b[39mresize(image, (size_m, size_n))\n\u001b[0;32m      7\u001b[0m     \u001b[38;5;28;01mif\u001b[39;00m \u001b[38;5;28mlen\u001b[39m(image\u001b[38;5;241m.\u001b[39mshape) \u001b[38;5;241m==\u001b[39m \u001b[38;5;241m3\u001b[39m \u001b[38;5;129;01mand\u001b[39;00m image\u001b[38;5;241m.\u001b[39mshape[\u001b[38;5;241m2\u001b[39m] \u001b[38;5;241m>\u001b[39m\u001b[38;5;241m=\u001b[39m \u001b[38;5;241m3\u001b[39m:\n",
      "File \u001b[1;32m~\\AppData\\Local\\Programs\\Python\\Python310\\lib\\site-packages\\matplotlib\\image.py:1528\u001b[0m, in \u001b[0;36mimread\u001b[1;34m(fname, format)\u001b[0m\n\u001b[0;32m   1520\u001b[0m     \u001b[38;5;28;01mraise\u001b[39;00m \u001b[38;5;167;01mValueError\u001b[39;00m(\n\u001b[0;32m   1521\u001b[0m         \u001b[38;5;124m\"\u001b[39m\u001b[38;5;124mPlease open the URL for reading and pass the \u001b[39m\u001b[38;5;124m\"\u001b[39m\n\u001b[0;32m   1522\u001b[0m         \u001b[38;5;124m\"\u001b[39m\u001b[38;5;124mresult to Pillow, e.g. with \u001b[39m\u001b[38;5;124m\"\u001b[39m\n\u001b[0;32m   1523\u001b[0m         \u001b[38;5;124m\"\u001b[39m\u001b[38;5;124m``np.array(PIL.Image.open(urllib.request.urlopen(url)))``.\u001b[39m\u001b[38;5;124m\"\u001b[39m\n\u001b[0;32m   1524\u001b[0m         )\n\u001b[0;32m   1525\u001b[0m \u001b[38;5;28;01mwith\u001b[39;00m img_open(fname) \u001b[38;5;28;01mas\u001b[39;00m image:\n\u001b[0;32m   1526\u001b[0m     \u001b[38;5;28;01mreturn\u001b[39;00m (_pil_png_to_float_array(image)\n\u001b[0;32m   1527\u001b[0m             \u001b[38;5;28;01mif\u001b[39;00m \u001b[38;5;28misinstance\u001b[39m(image, PIL\u001b[38;5;241m.\u001b[39mPngImagePlugin\u001b[38;5;241m.\u001b[39mPngImageFile) \u001b[38;5;28;01melse\u001b[39;00m\n\u001b[1;32m-> 1528\u001b[0m             \u001b[43mpil_to_array\u001b[49m\u001b[43m(\u001b[49m\u001b[43mimage\u001b[49m\u001b[43m)\u001b[49m)\n",
      "File \u001b[1;32m~\\AppData\\Local\\Programs\\Python\\Python310\\lib\\site-packages\\matplotlib\\image.py:1677\u001b[0m, in \u001b[0;36mpil_to_array\u001b[1;34m(pilImage)\u001b[0m\n\u001b[0;32m   1660\u001b[0m \u001b[38;5;250m\u001b[39m\u001b[38;5;124;03m\"\"\"\u001b[39;00m\n\u001b[0;32m   1661\u001b[0m \u001b[38;5;124;03mLoad a `PIL image`_ and return it as a numpy int array.\u001b[39;00m\n\u001b[0;32m   1662\u001b[0m \n\u001b[1;32m   (...)\u001b[0m\n\u001b[0;32m   1673\u001b[0m \u001b[38;5;124;03m    - (M, N, 4) for RGBA images.\u001b[39;00m\n\u001b[0;32m   1674\u001b[0m \u001b[38;5;124;03m\"\"\"\u001b[39;00m\n\u001b[0;32m   1675\u001b[0m \u001b[38;5;28;01mif\u001b[39;00m pilImage\u001b[38;5;241m.\u001b[39mmode \u001b[38;5;129;01min\u001b[39;00m [\u001b[38;5;124m'\u001b[39m\u001b[38;5;124mRGBA\u001b[39m\u001b[38;5;124m'\u001b[39m, \u001b[38;5;124m'\u001b[39m\u001b[38;5;124mRGBX\u001b[39m\u001b[38;5;124m'\u001b[39m, \u001b[38;5;124m'\u001b[39m\u001b[38;5;124mRGB\u001b[39m\u001b[38;5;124m'\u001b[39m, \u001b[38;5;124m'\u001b[39m\u001b[38;5;124mL\u001b[39m\u001b[38;5;124m'\u001b[39m]:\n\u001b[0;32m   1676\u001b[0m     \u001b[38;5;66;03m# return MxNx4 RGBA, MxNx3 RBA, or MxN luminance array\u001b[39;00m\n\u001b[1;32m-> 1677\u001b[0m     \u001b[38;5;28;01mreturn\u001b[39;00m \u001b[43mnp\u001b[49m\u001b[38;5;241;43m.\u001b[39;49m\u001b[43masarray\u001b[49m\u001b[43m(\u001b[49m\u001b[43mpilImage\u001b[49m\u001b[43m)\u001b[49m\n\u001b[0;32m   1678\u001b[0m \u001b[38;5;28;01melif\u001b[39;00m pilImage\u001b[38;5;241m.\u001b[39mmode\u001b[38;5;241m.\u001b[39mstartswith(\u001b[38;5;124m'\u001b[39m\u001b[38;5;124mI;16\u001b[39m\u001b[38;5;124m'\u001b[39m):\n\u001b[0;32m   1679\u001b[0m     \u001b[38;5;66;03m# return MxN luminance array of uint16\u001b[39;00m\n\u001b[0;32m   1680\u001b[0m     raw \u001b[38;5;241m=\u001b[39m pilImage\u001b[38;5;241m.\u001b[39mtobytes(\u001b[38;5;124m'\u001b[39m\u001b[38;5;124mraw\u001b[39m\u001b[38;5;124m'\u001b[39m, pilImage\u001b[38;5;241m.\u001b[39mmode)\n",
      "File \u001b[1;32m~\\AppData\\Local\\Programs\\Python\\Python310\\lib\\site-packages\\PIL\\Image.py:681\u001b[0m, in \u001b[0;36mImage.__array_interface__\u001b[1;34m(self)\u001b[0m\n\u001b[0;32m    679\u001b[0m         new[\u001b[38;5;124m\"\u001b[39m\u001b[38;5;124mdata\u001b[39m\u001b[38;5;124m\"\u001b[39m] \u001b[38;5;241m=\u001b[39m \u001b[38;5;28mself\u001b[39m\u001b[38;5;241m.\u001b[39mtobytes(\u001b[38;5;124m\"\u001b[39m\u001b[38;5;124mraw\u001b[39m\u001b[38;5;124m\"\u001b[39m, \u001b[38;5;124m\"\u001b[39m\u001b[38;5;124mL\u001b[39m\u001b[38;5;124m\"\u001b[39m)\n\u001b[0;32m    680\u001b[0m     \u001b[38;5;28;01melse\u001b[39;00m:\n\u001b[1;32m--> 681\u001b[0m         new[\u001b[38;5;124m\"\u001b[39m\u001b[38;5;124mdata\u001b[39m\u001b[38;5;124m\"\u001b[39m] \u001b[38;5;241m=\u001b[39m \u001b[38;5;28;43mself\u001b[39;49m\u001b[38;5;241;43m.\u001b[39;49m\u001b[43mtobytes\u001b[49m\u001b[43m(\u001b[49m\u001b[43m)\u001b[49m\n\u001b[0;32m    682\u001b[0m \u001b[38;5;28;01mexcept\u001b[39;00m \u001b[38;5;167;01mException\u001b[39;00m \u001b[38;5;28;01mas\u001b[39;00m e:\n\u001b[0;32m    683\u001b[0m     \u001b[38;5;28;01mif\u001b[39;00m \u001b[38;5;129;01mnot\u001b[39;00m \u001b[38;5;28misinstance\u001b[39m(e, (\u001b[38;5;167;01mMemoryError\u001b[39;00m, \u001b[38;5;167;01mRecursionError\u001b[39;00m)):\n",
      "File \u001b[1;32m~\\AppData\\Local\\Programs\\Python\\Python310\\lib\\site-packages\\PIL\\Image.py:761\u001b[0m, in \u001b[0;36mImage.tobytes\u001b[1;34m(self, encoder_name, *args)\u001b[0m\n\u001b[0;32m    758\u001b[0m     msg \u001b[38;5;241m=\u001b[39m \u001b[38;5;124mf\u001b[39m\u001b[38;5;124m\"\u001b[39m\u001b[38;5;124mencoder error \u001b[39m\u001b[38;5;132;01m{\u001b[39;00merrcode\u001b[38;5;132;01m}\u001b[39;00m\u001b[38;5;124m in tobytes\u001b[39m\u001b[38;5;124m\"\u001b[39m\n\u001b[0;32m    759\u001b[0m     \u001b[38;5;28;01mraise\u001b[39;00m \u001b[38;5;167;01mRuntimeError\u001b[39;00m(msg)\n\u001b[1;32m--> 761\u001b[0m \u001b[38;5;28;01mreturn\u001b[39;00m \u001b[38;5;124;43mb\u001b[39;49m\u001b[38;5;124;43m\"\u001b[39;49m\u001b[38;5;124;43m\"\u001b[39;49m\u001b[38;5;241;43m.\u001b[39;49m\u001b[43mjoin\u001b[49m\u001b[43m(\u001b[49m\u001b[43moutput\u001b[49m\u001b[43m)\u001b[49m\n",
      "\u001b[1;31mMemoryError\u001b[0m: "
     ]
    }
   ],
   "source": [
    "X_data, y_data = [], []\n",
    "def to_normal_image(data_name, img_path, target_class):\n",
    "    for i in range(0, len(data_name)):\n",
    "        if df['Target'].iloc[i] == 0:\n",
    "            image = mpimg.imread(f'{img_path}/{data_name[i]}')\n",
    "        image = cv2.resize(image, (size_m, size_n))\n",
    "        if len(image.shape) == 3 and image.shape[2] >= 3:\n",
    "            image = cv2.cvtColor(image, cv2.COLOR_BGR2GRAY)\n",
    "        image = image.reshape(size_m, size_n, 1)\n",
    "        image = image / 255\n",
    "        X_data.append(image)\n",
    "        y_data.append(target_class)\n",
    "    \n",
    "to_normal_image(train_covid_x,'train/Covid', 0)\n",
    "to_normal_image(train_normal_x,'train/Normal', 1)\n",
    "to_normal_image(train_pne_x,'train/Viral Pneumonia', 2)\n",
    "to_normal_image(test_covid_x,'test/Covid', 0)\n",
    "to_normal_image(test_normal_x,'test/Normal', 1)\n",
    "to_normal_image(test_pne_x,'test/Viral Pneumonia', 2)"
   ]
  },
  {
   "cell_type": "code",
   "execution_count": null,
   "id": "930b6636-222e-4865-b2a7-0ad1a3efaa3d",
   "metadata": {},
   "outputs": [],
   "source": [
    "X_data = np.array(X_data)\n",
    "y_data = np.array(y_data)"
   ]
  },
  {
   "cell_type": "code",
   "execution_count": null,
   "id": "b9beec3e-84ad-4fe2-a1b8-0c1cc8d14d62",
   "metadata": {},
   "outputs": [],
   "source": []
  }
 ],
 "metadata": {
  "kernelspec": {
   "display_name": "Python 3 (ipykernel)",
   "language": "python",
   "name": "python3"
  },
  "language_info": {
   "codemirror_mode": {
    "name": "ipython",
    "version": 3
   },
   "file_extension": ".py",
   "mimetype": "text/x-python",
   "name": "python",
   "nbconvert_exporter": "python",
   "pygments_lexer": "ipython3",
   "version": "3.10.4"
  }
 },
 "nbformat": 4,
 "nbformat_minor": 5
}
